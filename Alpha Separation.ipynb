{
 "cells": [
  {
   "cell_type": "markdown",
   "id": "discrete-league",
   "metadata": {},
   "source": [
    "# Alpha Separation\n",
    "We have a picture of a piece of metal. In the image are two types of alpha crystal - Primary alpha are round large blobs and secondary alpha is the smaller needle like crystals. The objective to to create an image mask to separate the two types of crystal"
   ]
  },
  {
   "cell_type": "code",
   "execution_count": null,
   "id": "cordless-yemen",
   "metadata": {},
   "outputs": [],
   "source": [
    "from skimage import io, filters, color, measure\n",
    "import matplotlib.pyplot as plt\n",
    "import ipywidgets as widgets\n",
    "from ipywidgets import interact, fixed\n",
    "from IPython.display import display\n",
    "import numpy as np\n",
    "import scipy\n",
    "\n",
    "plt.rcParams['figure.figsize'] = [12, 8]"
   ]
  },
  {
   "cell_type": "markdown",
   "id": "compound-administrator",
   "metadata": {},
   "source": [
    "## Import image\n",
    "It's stored as RGBA so convert to greyscale"
   ]
  },
  {
   "cell_type": "code",
   "execution_count": null,
   "id": "liable-popularity",
   "metadata": {},
   "outputs": [],
   "source": [
    "image = io.imread(\"BSE 200um FW.png\")\n",
    "gray_image = color.rgb2gray(color.rgba2rgb(image))\n",
    "io.imshow(gray_image)\n",
    "plt.show()"
   ]
  },
  {
   "cell_type": "markdown",
   "id": "accompanied-judges",
   "metadata": {},
   "source": [
    "## Crop image\n",
    "Remove white borders"
   ]
  },
  {
   "cell_type": "code",
   "execution_count": null,
   "id": "stylish-noise",
   "metadata": {},
   "outputs": [],
   "source": [
    "x_min = 0\n",
    "x_max = 1093 # 200 #1093\n",
    "y_min = 21\n",
    "y_max = 843 # 221 # 843\n",
    "gray_image = gray_image[y_min:y_max, x_min:x_max]\n",
    "io.imshow(gray_image)\n",
    "plt.show()"
   ]
  },
  {
   "cell_type": "markdown",
   "id": "minus-crossing",
   "metadata": {},
   "source": [
    "## What is interesting to the human eye about this image?\n",
    "This will inform our approach for the analysis.\n",
    "\n",
    "One notable aspect is that the primary alpha tends to be more oval while the rods have a much higher aspect ratio. There are some long blobs but these are on a much larger scale. On average the blobs are bigger than the rods.\n",
    "\n",
    "There is some white background that is neither blobs or rods. All rods are close to some white background but the center of blobs is not close to any white."
   ]
  },
  {
   "cell_type": "markdown",
   "id": "advised-hammer",
   "metadata": {},
   "source": [
    "## Attempt 1: Characterise distance of pixels from white background\n",
    "- First threshold the image to get the white particles and non white particles\n",
    "- Then for all non-white pixels, measure the average distance to the nearest half dozen white pixels\n",
    "\n",
    "### Filter image"
   ]
  },
  {
   "cell_type": "code",
   "execution_count": null,
   "id": "demonstrated-burlington",
   "metadata": {},
   "outputs": [],
   "source": [
    "def threshold_image_display(image: np.ndarray, threshold: int):\n",
    "    print(image.shape)\n",
    "    mask = image > threshold\n",
    "    masked_image = image.copy()\n",
    "    masked_image[mask] = 0\n",
    "    io.imshow(masked_image, cmap=\"gray\")\n",
    "    plt.show()\n",
    "    print(f\"{image.size} total pixels\")\n",
    "    print(f\"{np.sum(mask)} background pixels\")"
   ]
  },
  {
   "cell_type": "code",
   "execution_count": null,
   "id": "invisible-dietary",
   "metadata": {},
   "outputs": [],
   "source": [
    "interact(threshold_image_display, image=fixed(gray_image), threshold=widgets.FloatSlider(min=0, max=1, step=1/256, continuous_update=False))"
   ]
  },
  {
   "cell_type": "markdown",
   "id": "universal-blackberry",
   "metadata": {},
   "source": [
    "Sliding the slider to 0.45 pretty much separates the alpha and the background.\n",
    "\n",
    "### Measure distance from each pixel to the background pixels"
   ]
  },
  {
   "cell_type": "code",
   "execution_count": null,
   "id": "regular-wallpaper",
   "metadata": {},
   "outputs": [],
   "source": [
    "background_pixel_locations = np.column_stack(np.where(gray_image > 0.45))\n",
    "print(background_pixel_locations.shape)"
   ]
  },
  {
   "cell_type": "code",
   "execution_count": null,
   "id": "adapted-killing",
   "metadata": {},
   "outputs": [],
   "source": [
    "#TODO: limit the cdist to a 50x50 pixel radius, since no pixel is > 50 pixels from a background pixel.\n",
    "\n",
    "num_pixels = 5\n",
    "\n",
    "new_image = []\n",
    "for x in range(200):\n",
    "    for y in range(200):\n",
    "        a = np.array([x, y]).reshape(-1, 2)\n",
    "        distances = scipy.spatial.distance.cdist(a, background_pixel_locations, 'euclidean')[0]\n",
    "        # Get the indices of the n closest background pixels\n",
    "        shortest_indices = np.argpartition(distances, num_pixels)[:num_pixels]\n",
    "        distance_to_background = np.mean(distances[shortest_indices])\n",
    "        new_image.append(distance_to_background)"
   ]
  },
  {
   "cell_type": "code",
   "execution_count": null,
   "id": "affected-theta",
   "metadata": {},
   "outputs": [],
   "source": [
    "distance = np.array(new_image).reshape(200, 200)\n",
    "io.imshow(distance)"
   ]
  },
  {
   "cell_type": "markdown",
   "id": "metallic-distinction",
   "metadata": {},
   "source": [
    "Now threshold again - primary alpha is bright"
   ]
  },
  {
   "cell_type": "code",
   "execution_count": null,
   "id": "encouraging-moment",
   "metadata": {},
   "outputs": [],
   "source": [
    "primary_alpha = distance.copy()\n",
    "primary_alpha_indices = np.column_stack(np.where(primary_alpha > 7))\n",
    "plt.imshow(gray_image, cmap='gray')\n",
    "plt.scatter(primary_alpha_indices[:, 1], primary_alpha_indices[:, 0], s=50, alpha=0.1)\n",
    "plt.show()"
   ]
  },
  {
   "cell_type": "markdown",
   "id": "introductory-hawaii",
   "metadata": {},
   "source": [
    "This is pretty good - may need to dilate a little based on the background"
   ]
  }
 ],
 "metadata": {
  "kernelspec": {
   "display_name": "Python 3",
   "language": "python",
   "name": "python3"
  },
  "language_info": {
   "codemirror_mode": {
    "name": "ipython",
    "version": 3
   },
   "file_extension": ".py",
   "mimetype": "text/x-python",
   "name": "python",
   "nbconvert_exporter": "python",
   "pygments_lexer": "ipython3",
   "version": "3.8.2"
  }
 },
 "nbformat": 4,
 "nbformat_minor": 5
}
